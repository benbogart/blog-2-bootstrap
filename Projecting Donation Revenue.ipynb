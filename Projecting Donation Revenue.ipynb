{
 "cells": [
  {
   "cell_type": "markdown",
   "id": "criminal-double",
   "metadata": {},
   "source": [
    "Bootstrap resampling to determine the confidence intervals of the population.\n",
    "\n",
    "See the blog at: https://medium.com/p/cca9dc855d1b"
   ]
  },
  {
   "cell_type": "code",
   "execution_count": 64,
   "id": "general-sender",
   "metadata": {},
   "outputs": [],
   "source": [
    "# number stuff\n",
    "import pandas as pd\n",
    "import numpy as np\n",
    "\n",
    "# plotting stuff\n",
    "import matplotlib.pyplot as plt\n",
    "from matplotlib import ticker\n",
    "%matplotlib inline\n",
    "import seaborn as sns\n",
    "\n",
    "#from scipy import stats\n",
    "# resampling\n",
    "from sklearn.utils import resample\n"
   ]
  },
  {
   "cell_type": "code",
   "execution_count": 65,
   "id": "excited-chambers",
   "metadata": {},
   "outputs": [],
   "source": [
    "# Import the data into a Pandas Dataframe\n",
    "df = pd.read_csv('data/event_2_donations.csv', index_col=0)"
   ]
  },
  {
   "cell_type": "markdown",
   "id": "hungarian-admission",
   "metadata": {},
   "source": [
    "## look at  data"
   ]
  },
  {
   "cell_type": "code",
   "execution_count": 66,
   "id": "suspended-target",
   "metadata": {},
   "outputs": [
    {
     "data": {
      "text/plain": [
       "amount    2312.2\n",
       "dtype: float64"
      ]
     },
     "execution_count": 66,
     "metadata": {},
     "output_type": "execute_result"
    }
   ],
   "source": [
    "# total amount of donations\n",
    "df.sum()"
   ]
  },
  {
   "cell_type": "code",
   "execution_count": 67,
   "id": "nominated-texas",
   "metadata": {},
   "outputs": [
    {
     "data": {
      "text/html": [
       "<div>\n",
       "<style scoped>\n",
       "    .dataframe tbody tr th:only-of-type {\n",
       "        vertical-align: middle;\n",
       "    }\n",
       "\n",
       "    .dataframe tbody tr th {\n",
       "        vertical-align: top;\n",
       "    }\n",
       "\n",
       "    .dataframe thead th {\n",
       "        text-align: right;\n",
       "    }\n",
       "</style>\n",
       "<table border=\"1\" class=\"dataframe\">\n",
       "  <thead>\n",
       "    <tr style=\"text-align: right;\">\n",
       "      <th></th>\n",
       "      <th>amount</th>\n",
       "    </tr>\n",
       "  </thead>\n",
       "  <tbody>\n",
       "    <tr>\n",
       "      <th>count</th>\n",
       "      <td>64.000000</td>\n",
       "    </tr>\n",
       "    <tr>\n",
       "      <th>mean</th>\n",
       "      <td>36.128125</td>\n",
       "    </tr>\n",
       "    <tr>\n",
       "      <th>std</th>\n",
       "      <td>46.502191</td>\n",
       "    </tr>\n",
       "    <tr>\n",
       "      <th>min</th>\n",
       "      <td>10.000000</td>\n",
       "    </tr>\n",
       "    <tr>\n",
       "      <th>25%</th>\n",
       "      <td>10.000000</td>\n",
       "    </tr>\n",
       "    <tr>\n",
       "      <th>50%</th>\n",
       "      <td>20.000000</td>\n",
       "    </tr>\n",
       "    <tr>\n",
       "      <th>75%</th>\n",
       "      <td>42.500000</td>\n",
       "    </tr>\n",
       "    <tr>\n",
       "      <th>max</th>\n",
       "      <td>303.000000</td>\n",
       "    </tr>\n",
       "  </tbody>\n",
       "</table>\n",
       "</div>"
      ],
      "text/plain": [
       "           amount\n",
       "count   64.000000\n",
       "mean    36.128125\n",
       "std     46.502191\n",
       "min     10.000000\n",
       "25%     10.000000\n",
       "50%     20.000000\n",
       "75%     42.500000\n",
       "max    303.000000"
      ]
     },
     "execution_count": 67,
     "metadata": {},
     "output_type": "execute_result"
    }
   ],
   "source": [
    "# 5 point stats \n",
    "df.describe()"
   ]
  },
  {
   "cell_type": "code",
   "execution_count": 68,
   "id": "broad-spring",
   "metadata": {},
   "outputs": [
    {
     "data": {
      "image/png": "[encoded data removed]",
      "text/plain": [
       "<Figure size 864x360 with 1 Axes>"
      ]
     },
     "metadata": {
      "needs_background": "light"
     },
     "output_type": "display_data"
    }
   ],
   "source": [
    "# plot the distribution of the donations\n",
    "\n",
    "# set the size of the figure\n",
    "plt.figure(figsize=(12,5))\n",
    "\n",
    "# plot the histogram\n",
    "ax = sns.histplot(df.amount, kde=True)\n",
    "\n",
    "# set the title\n",
    "plt.title('Donation Distribution')\n",
    "\n",
    "# format the x axis as # amounts\n",
    "formatter = ticker.FormatStrFormatter('$%1.0f')\n",
    "ax.xaxis.set_major_formatter(formatter)"
   ]
  },
  {
   "cell_type": "markdown",
   "id": "ready-moldova",
   "metadata": {},
   "source": [
    "We can see from the 5 point stats that the minimum value for the Amount is 1. So the people who did not donate are not included.  We want to add them into this data as guests who donated zero. Our goal is to determine what the nonprofit can expect based on registrations.  If we don't include those our estimate will be too high.\n",
    "\n",
    "The first event had 109 people register\n",
    "The second event had 126 people register\n",
    "\n",
    "To add those in we want to see the difference between the number of people who registered and the number of donations for that event, and pad the list with zeros for the people who didn't donate."
   ]
  },
  {
   "cell_type": "code",
   "execution_count": 69,
   "id": "remarkable-albania",
   "metadata": {},
   "outputs": [
    {
     "data": {
      "text/html": [
       "<div>\n",
       "<style scoped>\n",
       "    .dataframe tbody tr th:only-of-type {\n",
       "        vertical-align: middle;\n",
       "    }\n",
       "\n",
       "    .dataframe tbody tr th {\n",
       "        vertical-align: top;\n",
       "    }\n",
       "\n",
       "    .dataframe thead th {\n",
       "        text-align: right;\n",
       "    }\n",
       "</style>\n",
       "<table border=\"1\" class=\"dataframe\">\n",
       "  <thead>\n",
       "    <tr style=\"text-align: right;\">\n",
       "      <th></th>\n",
       "      <th>amount</th>\n",
       "    </tr>\n",
       "  </thead>\n",
       "  <tbody>\n",
       "    <tr>\n",
       "      <th>0</th>\n",
       "      <td>0.0</td>\n",
       "    </tr>\n",
       "    <tr>\n",
       "      <th>1</th>\n",
       "      <td>0.0</td>\n",
       "    </tr>\n",
       "    <tr>\n",
       "      <th>2</th>\n",
       "      <td>0.0</td>\n",
       "    </tr>\n",
       "    <tr>\n",
       "      <th>3</th>\n",
       "      <td>0.0</td>\n",
       "    </tr>\n",
       "    <tr>\n",
       "      <th>4</th>\n",
       "      <td>0.0</td>\n",
       "    </tr>\n",
       "  </tbody>\n",
       "</table>\n",
       "</div>"
      ],
      "text/plain": [
       "   amount\n",
       "0     0.0\n",
       "1     0.0\n",
       "2     0.0\n",
       "3     0.0\n",
       "4     0.0"
      ]
     },
     "execution_count": 69,
     "metadata": {},
     "output_type": "execute_result"
    }
   ],
   "source": [
    "# count the number of people who did not donate by subtracting the total number\n",
    "# of donations from the total number of registered attendees \n",
    "number_of_cheapskates = 126 - len(df)\n",
    "\n",
    "# create a dataframe of 0's with length of equal to number_of_cheapskates\n",
    "cheapskates = pd.DataFrame(np.zeros(number_of_cheapskates), \n",
    "                           columns = ['amount'])\n",
    "cheapskates.head()"
   ]
  },
  {
   "cell_type": "code",
   "execution_count": 70,
   "id": "veterinary-packaging",
   "metadata": {},
   "outputs": [
    {
     "data": {
      "text/plain": [
       "62"
      ]
     },
     "execution_count": 70,
     "metadata": {},
     "output_type": "execute_result"
    }
   ],
   "source": [
    "# check that we have the right number of cheapskates\n",
    "len(cheapskates)"
   ]
  },
  {
   "cell_type": "code",
   "execution_count": 71,
   "id": "sound-conducting",
   "metadata": {},
   "outputs": [
    {
     "data": {
      "text/plain": [
       "18.35"
      ]
     },
     "execution_count": 71,
     "metadata": {},
     "output_type": "execute_result"
    }
   ],
   "source": [
    "# create a new dataframe with all registered attendees and the amount they donated.\n",
    "df_combined = pd.concat([df, cheapskates])\n",
    "\n",
    "# get the new mean\n",
    "sample_mean = df_combined['amount'].mean()\n",
    "round(sample_mean, 2)"
   ]
  },
  {
   "cell_type": "code",
   "execution_count": 72,
   "id": "soviet-stone",
   "metadata": {},
   "outputs": [
    {
     "data": {
      "image/png": "[encoded data removed]",
      "text/plain": [
       "<Figure size 864x360 with 1 Axes>"
      ]
     },
     "metadata": {
      "needs_background": "light"
     },
     "output_type": "display_data"
    }
   ],
   "source": [
    "# plot the new distribution of the donations\n",
    "\n",
    "# set the size of the figure\n",
    "plt.figure(figsize=(12,5))\n",
    "\n",
    "# plot the histogram\n",
    "ax = sns.histplot(df_combined.amount, kde=True)\n",
    "\n",
    "# set the title\n",
    "plt.title('Donation Distribution')\n",
    "\n",
    "# format the x axis as # amounts\n",
    "formatter = ticker.FormatStrFormatter('$%1.0f')\n",
    "ax.xaxis.set_major_formatter(formatter)"
   ]
  },
  {
   "cell_type": "markdown",
   "id": "public-blond",
   "metadata": {},
   "source": [
    "## Resample to find the population mean and confidence intervals.\n",
    "\n",
    "Why?  Because we want to know what to expect for other similar events.  By resampling we get an estimator of the sampling variation in the population.  We look at the difference between the resampled mean and our sample mean to get a distribution of the errors which we can use to estimate the confidence intervals for samples of this size from the population.\n",
    "\n",
    "For a large number of samples it will converge on an estimate of the distribution of the population.  Lets test how this converges"
   ]
  },
  {
   "cell_type": "code",
   "execution_count": 89,
   "id": "random-memphis",
   "metadata": {},
   "outputs": [
    {
     "data": {
      "text/plain": [
       "3945"
      ]
     },
     "execution_count": 89,
     "metadata": {},
     "output_type": "execute_result"
    }
   ],
   "source": [
    "np.random.randint(10000)"
   ]
  },
  {
   "cell_type": "code",
   "execution_count": 108,
   "id": "asian-coordinate",
   "metadata": {},
   "outputs": [],
   "source": [
    "np.random.seed((3945))\n",
    "\n",
    "# create an empy list to hold the resampled_means \n",
    "resample_means = []\n",
    "for i in range(10000):\n",
    "    resample_means.append(resample(df_combined.amount).mean())"
   ]
  },
  {
   "cell_type": "code",
   "execution_count": 204,
   "id": "average-champion",
   "metadata": {},
   "outputs": [
    {
     "data": {
      "text/plain": [
       "[17.049206349206347,\n",
       " 17.61111111111111,\n",
       " 23.106349206349204,\n",
       " 20.207936507936505,\n",
       " 18.84285714285714]"
      ]
     },
     "execution_count": 204,
     "metadata": {},
     "output_type": "execute_result"
    }
   ],
   "source": [
    "# look at the first 5 resampled menas\n",
    "resample_means[:5]"
   ]
  },
  {
   "cell_type": "markdown",
   "id": "immediate-covering",
   "metadata": {},
   "source": [
    "The mean of the resample_means will be about the same as the mean of our original sample."
   ]
  },
  {
   "cell_type": "code",
   "execution_count": 205,
   "id": "dangerous-independence",
   "metadata": {},
   "outputs": [
    {
     "name": "stdout",
     "output_type": "stream",
     "text": [
      "Original Sample Mean: 18.35\n",
      "Mean of resampled means: 18.34\n"
     ]
    }
   ],
   "source": [
    "print(f'Original Sample Mean: {round(sample_mean, 2)}')\n",
    "print('Mean of resampled means:', round(np.mean(resample_means), 2))"
   ]
  },
  {
   "cell_type": "code",
   "execution_count": 144,
   "id": "complete-plate",
   "metadata": {},
   "outputs": [
    {
     "data": {
      "image/png": "[encoded data removed]",
      "text/plain": [
       "<Figure size 864x360 with 1 Axes>"
      ]
     },
     "metadata": {
      "needs_background": "light"
     },
     "output_type": "display_data"
    }
   ],
   "source": [
    "plt.figure(figsize=(12,5))\n",
    "sns.histplot(resample_means)\n",
    "\n",
    "plt.title('Resampled mean - Original mean (delta or difference)')\n",
    "\n",
    "formatter = ticker.FormatStrFormatter('$%1.0f')\n",
    "ax.xaxis.set_major_formatter(formatter)\n"
   ]
  },
  {
   "cell_type": "code",
   "execution_count": 121,
   "id": "bored-dover",
   "metadata": {},
   "outputs": [
    {
     "data": {
      "text/plain": [
       "array([12.59, 25.46])"
      ]
     },
     "execution_count": 121,
     "metadata": {},
     "output_type": "execute_result"
    }
   ],
   "source": [
    "resample_means.sort()\n",
    "np.round((resample_means[249], resample_means[9749]),2)"
   ]
  },
  {
   "cell_type": "code",
   "execution_count": 141,
   "id": "accepted-speech",
   "metadata": {},
   "outputs": [
    {
     "data": {
      "text/plain": [
       "<matplotlib.legend.Legend at 0x125539b50>"
      ]
     },
     "execution_count": 141,
     "metadata": {},
     "output_type": "execute_result"
    },
    {
     "data": {
      "image/png": "[encoded data removed]",
      "text/plain": [
       "<Figure size 864x360 with 1 Axes>"
      ]
     },
     "metadata": {
      "needs_background": "light"
     },
     "output_type": "display_data"
    }
   ],
   "source": [
    "plt.figure(figsize=(12,5))\n",
    "ax = sns.histplot(resample_means)\n",
    "\n",
    "plt.title('95% confidence interval for the mean')\n",
    "\n",
    "formatter = ticker.FormatStrFormatter('$%1.0f')\n",
    "ax.xaxis.set_major_formatter(formatter)\n",
    "\n",
    "ax.axvline(12.45, 0, .5, color='r', label='95% Confidence Interval')\n",
    "ax.axvline(25.44, 0, .5, color='r')\n",
    "\n",
    "ax.text(12.45, 180, '$12.45', rotation=270, va='bottom', ha='left', color='r')\n",
    "ax.text(25.4, 180, '$25.44', rotation=90, va='bottom', ha='right', color='r')\n",
    "\n",
    "\n",
    "plt.legend()"
   ]
  },
  {
   "cell_type": "code",
   "execution_count": 142,
   "id": "binary-ambassador",
   "metadata": {},
   "outputs": [
    {
     "data": {
      "text/plain": [
       "11.68"
      ]
     },
     "execution_count": 142,
     "metadata": {},
     "output_type": "execute_result"
    }
   ],
   "source": [
    "resample_means.sort()\n",
    "np.round(resample_means[99], 2)"
   ]
  },
  {
   "cell_type": "code",
   "execution_count": 143,
   "id": "infinite-barcelona",
   "metadata": {},
   "outputs": [
    {
     "data": {
      "text/plain": [
       "<matplotlib.legend.Legend at 0x125725b50>"
      ]
     },
     "execution_count": 143,
     "metadata": {},
     "output_type": "execute_result"
    },
    {
     "data": {
      "image/png": "[encoded data removed]",
      "text/plain": [
       "<Figure size 864x360 with 1 Axes>"
      ]
     },
     "metadata": {
      "needs_background": "light"
     },
     "output_type": "display_data"
    }
   ],
   "source": [
    "plt.figure(figsize=(12,5))\n",
    "ax = sns.histplot(resample_means)\n",
    "\n",
    "plt.title('Resampled mean - Original mean (delta or difference)')\n",
    "\n",
    "formatter = ticker.FormatStrFormatter('$%1.0f')\n",
    "ax.xaxis.set_major_formatter(formatter)\n",
    "\n",
    "ax.axvline(11.68, 0, .5, color='r', label='99% Confidence')\n",
    "ax.text(11.68, 180, '$12.45', rotation=270, va='bottom', ha='left', color='r')\n",
    "\n",
    "plt.legend()"
   ]
  },
  {
   "cell_type": "markdown",
   "id": "hispanic-blast",
   "metadata": {},
   "source": [
    "Because we are using 1000 samples the quantile should be the same as record 250 and 975 from an ordered dataset."
   ]
  },
  {
   "cell_type": "markdown",
   "id": "handmade-singapore",
   "metadata": {},
   "source": [
    "# Plot convergance of confidence intervals"
   ]
  },
  {
   "cell_type": "code",
   "execution_count": 198,
   "id": "internal-scheduling",
   "metadata": {},
   "outputs": [],
   "source": [
    "# create an empy list to hold the resampled_means \n",
    "resample_deltas = []\n",
    "x = np.arange(10,40001,10)\n",
    "for i in x:\n",
    "    resample_deltas.append(resample(df_combined.amount).mean() - sample_mean)"
   ]
  },
  {
   "cell_type": "code",
   "execution_count": 199,
   "id": "geographic-cover",
   "metadata": {},
   "outputs": [],
   "source": [
    "y1 = []\n",
    "y2 = []\n",
    "for i in range(len(resample_deltas)):\n",
    "    y1.append(np.quantile(resample_deltas[:i+1],.025))\n",
    "    y2.append(np.quantile(resample_deltas[:i+1],.075))\n"
   ]
  },
  {
   "cell_type": "code",
   "execution_count": 201,
   "id": "adapted-yukon",
   "metadata": {},
   "outputs": [
    {
     "data": {
      "text/plain": [
       "<matplotlib.legend.Legend at 0x124628f70>"
      ]
     },
     "execution_count": 201,
     "metadata": {},
     "output_type": "execute_result"
    },
    {
     "data": {
      "image/png": "[encoded data removed]",
      "text/plain": [
       "<Figure size 864x360 with 1 Axes>"
      ]
     },
     "metadata": {
      "needs_background": "light"
     },
     "output_type": "display_data"
    }
   ],
   "source": [
    "plt.figure(figsize=(12,5))\n",
    "sns.lineplot(x=x, y=y1, label='Upper CI error')\n",
    "sns.lineplot(x=x, y=y2, label='Lower CI error')\n",
    "\n",
    "formatter = ticker.FormatStrFormatter('$%1.0f')\n",
    "ax.yaxis.set_major_formatter(formatter)\n",
    "\n",
    "plt.title('0.25 and .975 quantiles of error by number of resampled means')\n",
    "plt.xlabel('number of resampled means')\n",
    "plt.ylabel('$ Dollars')\n",
    "\n",
    "plt.legend()"
   ]
  }
 ],
 "metadata": {
  "kernelspec": {
   "display_name": "Python 3",
   "language": "python",
   "name": "python3"
  },
  "language_info": {
   "codemirror_mode": {
    "name": "ipython",
    "version": 3
   },
   "file_extension": ".py",
   "mimetype": "text/x-python",
   "name": "python",
   "nbconvert_exporter": "python",
   "pygments_lexer": "ipython3",
   "version": "3.8.5"
  },
  "toc": {
   "base_numbering": 1,
   "nav_menu": {},
   "number_sections": true,
   "sideBar": true,
   "skip_h1_title": false,
   "title_cell": "Table of Contents",
   "title_sidebar": "Contents",
   "toc_cell": false,
   "toc_position": {},
   "toc_section_display": true,
   "toc_window_display": false
  }
 },
 "nbformat": 4,
 "nbformat_minor": 5
}
