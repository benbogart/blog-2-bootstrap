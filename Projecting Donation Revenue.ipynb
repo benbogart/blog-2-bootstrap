{
 "cells": [
  {
   "cell_type": "markdown",
   "id": "dental-combining",
   "metadata": {},
   "source": [
    "# Predicting future donation revenue for online events.\n",
    "\n",
    "## Bootstrap estimation of confidence intervals\n",
    "\n",
    "This notebook contains the code from the medium post:\n",
    "https://medium.com/p/cca9dc855d1b/\n"
   ]
  },
  {
   "cell_type": "code",
   "execution_count": 1,
   "id": "virtual-amendment",
   "metadata": {},
   "outputs": [],
   "source": [
    "# Import the packages needed\n",
    "\n",
    "# number stuff\n",
    "import pandas as pd\n",
    "import numpy as np\n",
    "\n",
    "# plotting stuff\n",
    "import matplotlib.pyplot as plt\n",
    "from matplotlib import ticker\n",
    "%matplotlib inline\n",
    "import seaborn as sns\n",
    "\n",
    "# resampling\n",
    "from sklearn.utils import resample"
   ]
  },
  {
   "cell_type": "code",
   "execution_count": 2,
   "id": "monthly-missile",
   "metadata": {},
   "outputs": [],
   "source": [
    "# Import the data into a Pandas Dataframe\n",
    "# importing from the github repo so the notebook can be used in colab\n",
    "url = 'https://github.com/benbogart/blog-2-bootstrap/blob/main/data/event_2_donations.csv?raw=true'\n",
    "df = pd.read_csv(url, index_col=0)"
   ]
  },
  {
   "cell_type": "markdown",
   "id": "mental-fishing",
   "metadata": {},
   "source": [
    "## Get to know the data"
   ]
  },
  {
   "cell_type": "code",
   "execution_count": 3,
   "id": "obvious-arabic",
   "metadata": {},
   "outputs": [
    {
     "data": {
      "text/plain": [
       "amount    2312.2\n",
       "dtype: float64"
      ]
     },
     "execution_count": 3,
     "metadata": {},
     "output_type": "execute_result"
    }
   ],
   "source": [
    "# total amount donated\n",
    "df.sum()"
   ]
  },
  {
   "cell_type": "code",
   "execution_count": 4,
   "id": "engaging-intervention",
   "metadata": {},
   "outputs": [
    {
     "data": {
      "text/html": [
       "<div>\n",
       "<style scoped>\n",
       "    .dataframe tbody tr th:only-of-type {\n",
       "        vertical-align: middle;\n",
       "    }\n",
       "\n",
       "    .dataframe tbody tr th {\n",
       "        vertical-align: top;\n",
       "    }\n",
       "\n",
       "    .dataframe thead th {\n",
       "        text-align: right;\n",
       "    }\n",
       "</style>\n",
       "<table border=\"1\" class=\"dataframe\">\n",
       "  <thead>\n",
       "    <tr style=\"text-align: right;\">\n",
       "      <th></th>\n",
       "      <th>amount</th>\n",
       "    </tr>\n",
       "  </thead>\n",
       "  <tbody>\n",
       "    <tr>\n",
       "      <th>count</th>\n",
       "      <td>64.000000</td>\n",
       "    </tr>\n",
       "    <tr>\n",
       "      <th>mean</th>\n",
       "      <td>36.128125</td>\n",
       "    </tr>\n",
       "    <tr>\n",
       "      <th>std</th>\n",
       "      <td>46.502191</td>\n",
       "    </tr>\n",
       "    <tr>\n",
       "      <th>min</th>\n",
       "      <td>10.000000</td>\n",
       "    </tr>\n",
       "    <tr>\n",
       "      <th>25%</th>\n",
       "      <td>10.000000</td>\n",
       "    </tr>\n",
       "    <tr>\n",
       "      <th>50%</th>\n",
       "      <td>20.000000</td>\n",
       "    </tr>\n",
       "    <tr>\n",
       "      <th>75%</th>\n",
       "      <td>42.500000</td>\n",
       "    </tr>\n",
       "    <tr>\n",
       "      <th>max</th>\n",
       "      <td>303.000000</td>\n",
       "    </tr>\n",
       "  </tbody>\n",
       "</table>\n",
       "</div>"
      ],
      "text/plain": [
       "           amount\n",
       "count   64.000000\n",
       "mean    36.128125\n",
       "std     46.502191\n",
       "min     10.000000\n",
       "25%     10.000000\n",
       "50%     20.000000\n",
       "75%     42.500000\n",
       "max    303.000000"
      ]
     },
     "execution_count": 4,
     "metadata": {},
     "output_type": "execute_result"
    }
   ],
   "source": [
    "# 5 point stats \n",
    "df.describe()"
   ]
  },
  {
   "cell_type": "code",
   "execution_count": 5,
   "id": "charged-working",
   "metadata": {},
   "outputs": [
    {
     "data": {
      "image/png": "[encoded data removed]",
      "text/plain": [
       "<Figure size 864x360 with 1 Axes>"
      ]
     },
     "metadata": {
      "needs_background": "light"
     },
     "output_type": "display_data"
    }
   ],
   "source": [
    "# plot the distribution of the donations\n",
    "\n",
    "# set the size of the figure\n",
    "plt.figure(figsize=(12,5))\n",
    "\n",
    "# plot the histogram\n",
    "ax = sns.histplot(df.amount, kde=True)\n",
    "\n",
    "# set the title\n",
    "plt.title('Donation Distribution')\n",
    "\n",
    "# format the x axis as # amounts\n",
    "formatter = ticker.FormatStrFormatter('$%1.0f')\n",
    "ax.xaxis.set_major_formatter(formatter)"
   ]
  },
  {
   "cell_type": "markdown",
   "id": "voluntary-figure",
   "metadata": {},
   "source": [
    "We can see from the 5 point stats that the minimum value for the Amount is 1. So the people who did not donate are not included.  We want to add them into this data as guests who donated zero.\n",
    "\n",
    "This event had 126 people register.\n",
    "\n",
    "To add those in we want to see the difference between the number of people who registered and the number of donations for that event, then pad the data with zeros for the people who didn't donate."
   ]
  },
  {
   "cell_type": "code",
   "execution_count": 6,
   "id": "realistic-demographic",
   "metadata": {},
   "outputs": [
    {
     "data": {
      "text/html": [
       "<div>\n",
       "<style scoped>\n",
       "    .dataframe tbody tr th:only-of-type {\n",
       "        vertical-align: middle;\n",
       "    }\n",
       "\n",
       "    .dataframe tbody tr th {\n",
       "        vertical-align: top;\n",
       "    }\n",
       "\n",
       "    .dataframe thead th {\n",
       "        text-align: right;\n",
       "    }\n",
       "</style>\n",
       "<table border=\"1\" class=\"dataframe\">\n",
       "  <thead>\n",
       "    <tr style=\"text-align: right;\">\n",
       "      <th></th>\n",
       "      <th>amount</th>\n",
       "    </tr>\n",
       "  </thead>\n",
       "  <tbody>\n",
       "    <tr>\n",
       "      <th>0</th>\n",
       "      <td>0.0</td>\n",
       "    </tr>\n",
       "    <tr>\n",
       "      <th>1</th>\n",
       "      <td>0.0</td>\n",
       "    </tr>\n",
       "    <tr>\n",
       "      <th>2</th>\n",
       "      <td>0.0</td>\n",
       "    </tr>\n",
       "    <tr>\n",
       "      <th>3</th>\n",
       "      <td>0.0</td>\n",
       "    </tr>\n",
       "    <tr>\n",
       "      <th>4</th>\n",
       "      <td>0.0</td>\n",
       "    </tr>\n",
       "  </tbody>\n",
       "</table>\n",
       "</div>"
      ],
      "text/plain": [
       "   amount\n",
       "0     0.0\n",
       "1     0.0\n",
       "2     0.0\n",
       "3     0.0\n",
       "4     0.0"
      ]
     },
     "execution_count": 6,
     "metadata": {},
     "output_type": "execute_result"
    }
   ],
   "source": [
    "# count the number of people who did not donate by subtracting the total number\n",
    "# of donations from the total number of registered attendees \n",
    "number_of_cheapskates = 126 - len(df)\n",
    "\n",
    "# create a dataframe of 0's with length of equal to number_of_cheapskates\n",
    "cheapskates = pd.DataFrame(np.zeros(number_of_cheapskates), \n",
    "                           columns = ['amount'])\n",
    "cheapskates.head()"
   ]
  },
  {
   "cell_type": "code",
   "execution_count": 7,
   "id": "numeric-bandwidth",
   "metadata": {},
   "outputs": [
    {
     "data": {
      "text/plain": [
       "62"
      ]
     },
     "execution_count": 7,
     "metadata": {},
     "output_type": "execute_result"
    }
   ],
   "source": [
    "# check that we have the right number of cheapskates\n",
    "len(cheapskates)"
   ]
  },
  {
   "cell_type": "code",
   "execution_count": 8,
   "id": "light-galaxy",
   "metadata": {},
   "outputs": [
    {
     "data": {
      "text/plain": [
       "18.35"
      ]
     },
     "execution_count": 8,
     "metadata": {},
     "output_type": "execute_result"
    }
   ],
   "source": [
    "# create a new dataframe with all registered attendees and the amount \n",
    "# they donated.\n",
    "df_combined = pd.concat([df, cheapskates])\n",
    "\n",
    "# get the new mean\n",
    "sample_mean = df_combined['amount'].mean()\n",
    "round(sample_mean, 2)"
   ]
  },
  {
   "cell_type": "code",
   "execution_count": 9,
   "id": "retained-ratio",
   "metadata": {},
   "outputs": [
    {
     "data": {
      "image/png": "[encoded data removed]",
      "text/plain": [
       "<Figure size 864x360 with 1 Axes>"
      ]
     },
     "metadata": {
      "needs_background": "light"
     },
     "output_type": "display_data"
    }
   ],
   "source": [
    "# plot the new distribution of the donations\n",
    "\n",
    "# set the size of the figure\n",
    "plt.figure(figsize=(12,5))\n",
    "\n",
    "# plot the histogram\n",
    "ax = sns.histplot(df_combined.amount, kde=True)\n",
    "\n",
    "# set the title\n",
    "plt.title('Donation Distribution')\n",
    "\n",
    "# format the x axis as # amounts\n",
    "formatter = ticker.FormatStrFormatter('$%1.0f')\n",
    "ax.xaxis.set_major_formatter(formatter)"
   ]
  },
  {
   "cell_type": "markdown",
   "id": "finite-forest",
   "metadata": {},
   "source": [
    "## Resample to find the population distributioin."
   ]
  },
  {
   "cell_type": "code",
   "execution_count": 10,
   "id": "velvet-domestic",
   "metadata": {},
   "outputs": [],
   "source": [
    "# set a random seed so if you rerun this notebook your results will exactly \n",
    "# match mine.\n",
    "np.random.seed((3945))\n",
    "\n",
    "# create an empy list to hold the resampled_means \n",
    "resample_means = []\n",
    "\n",
    "# resample from our event data 10000 times and store the results in\n",
    "# resample_means\n",
    "for i in range(10000):\n",
    "    resample_means.append(resample(df_combined.amount).mean())"
   ]
  },
  {
   "cell_type": "code",
   "execution_count": 11,
   "id": "supreme-schedule",
   "metadata": {},
   "outputs": [
    {
     "data": {
      "text/plain": [
       "[19.173015873015874,\n",
       " 17.05873015873016,\n",
       " 13.087301587301587,\n",
       " 19.142857142857142,\n",
       " 16.847619047619048]"
      ]
     },
     "execution_count": 11,
     "metadata": {},
     "output_type": "execute_result"
    }
   ],
   "source": [
    "# look at the first 5 resampled menas\n",
    "resample_means[:5]"
   ]
  },
  {
   "cell_type": "markdown",
   "id": "wireless-salon",
   "metadata": {},
   "source": [
    "The mean of the resample_means will be about the same as the mean of our original sample."
   ]
  },
  {
   "cell_type": "code",
   "execution_count": 12,
   "id": "ultimate-married",
   "metadata": {},
   "outputs": [
    {
     "name": "stdout",
     "output_type": "stream",
     "text": [
      "Original Sample Mean: 18.35\n",
      "Mean of resampled means: 18.38\n"
     ]
    }
   ],
   "source": [
    "print(f'Original Sample Mean: {round(sample_mean, 2)}')\n",
    "print('Mean of resampled means:', round(np.mean(resample_means), 2))"
   ]
  },
  {
   "cell_type": "code",
   "execution_count": 13,
   "id": "gross-gravity",
   "metadata": {},
   "outputs": [
    {
     "data": {
      "image/png": "[encoded data removed]",
      "text/plain": [
       "<Figure size 864x360 with 1 Axes>"
      ]
     },
     "metadata": {
      "needs_background": "light"
     },
     "output_type": "display_data"
    }
   ],
   "source": [
    "# Plot the distribution of the resampled means.\n",
    "\n",
    "# set the size of the figure\n",
    "plt.figure(figsize=(12,5))\n",
    "\n",
    "# create the histogram\n",
    "ax = sns.histplot(resample_means)\n",
    "\n",
    "# set the title\n",
    "plt.title('Distribution of Resampled means')\n",
    "\n",
    "# format the x axis as $\n",
    "formatter = ticker.FormatStrFormatter('$%1.0f')\n",
    "ax.xaxis.set_major_formatter(formatter)\n"
   ]
  },
  {
   "cell_type": "markdown",
   "id": "august-california",
   "metadata": {},
   "source": [
    "Calculate the 95% confidence interval by sorting `resample_mans` and taking the 250th and 9750th elements which correspond to the .025 quantile and the .975 quantile."
   ]
  },
  {
   "cell_type": "code",
   "execution_count": 14,
   "id": "fitted-spring",
   "metadata": {},
   "outputs": [
    {
     "data": {
      "text/plain": [
       "array([12.59, 25.46])"
      ]
     },
     "execution_count": 14,
     "metadata": {},
     "output_type": "execute_result"
    }
   ],
   "source": [
    "# sort resample_means\n",
    "resample_means.sort()\n",
    "\n",
    "# extract the confidence interval\n",
    "np.round((resample_means[249], resample_means[9749]),2)"
   ]
  },
  {
   "cell_type": "code",
   "execution_count": 15,
   "id": "blind-feedback",
   "metadata": {},
   "outputs": [
    {
     "data": {
      "text/plain": [
       "<matplotlib.legend.Legend at 0x11757a3a0>"
      ]
     },
     "execution_count": 15,
     "metadata": {},
     "output_type": "execute_result"
    },
    {
     "data": {
      "image/png": "[encoded data removed]",
      "text/plain": [
       "<Figure size 864x360 with 1 Axes>"
      ]
     },
     "metadata": {
      "needs_background": "light"
     },
     "output_type": "display_data"
    }
   ],
   "source": [
    "# visualize the confidence interval\n",
    "\n",
    "# set the figure size\n",
    "plt.figure(figsize=(12,5))\n",
    "\n",
    "# plot histogram\n",
    "ax = sns.histplot(resample_means)\n",
    "\n",
    "# format the x axis as $\n",
    "formatter = ticker.FormatStrFormatter('$%1.0f')\n",
    "ax.xaxis.set_major_formatter(formatter)\n",
    "\n",
    "# draw the vertical lines\n",
    "ax.axvline(12.45, 0, .5, color='r', label='95% Confidence Interval')\n",
    "ax.axvline(25.44, 0, .5, color='r')\n",
    "\n",
    "# add text to the vertical lines\n",
    "ax.text(12.45, 180, '$12.45', rotation=270, va='bottom', ha='left', color='r')\n",
    "ax.text(25.4, 180, '$25.44', rotation=90, va='bottom', ha='right', color='r')\n",
    "\n",
    "#set the title\n",
    "plt.title('95% confidence interval for the mean')\n",
    "\n",
    "# add a legend\n",
    "plt.legend()"
   ]
  },
  {
   "cell_type": "markdown",
   "id": "major-riverside",
   "metadata": {},
   "source": [
    "Find the value that the mean will be above 99% of the time."
   ]
  },
  {
   "cell_type": "code",
   "execution_count": 16,
   "id": "roman-springfield",
   "metadata": {},
   "outputs": [
    {
     "data": {
      "text/plain": [
       "11.68"
      ]
     },
     "execution_count": 16,
     "metadata": {},
     "output_type": "execute_result"
    }
   ],
   "source": [
    "resample_means.sort()\n",
    "np.round(resample_means[99], 2)"
   ]
  },
  {
   "cell_type": "code",
   "execution_count": 17,
   "id": "circular-warrior",
   "metadata": {},
   "outputs": [
    {
     "data": {
      "text/plain": [
       "<matplotlib.legend.Legend at 0x1172df5b0>"
      ]
     },
     "execution_count": 17,
     "metadata": {},
     "output_type": "execute_result"
    },
    {
     "data": {
      "image/png": "[encoded data removed]",
      "text/plain": [
       "<Figure size 864x360 with 1 Axes>"
      ]
     },
     "metadata": {
      "needs_background": "light"
     },
     "output_type": "display_data"
    }
   ],
   "source": [
    "# visualize the low bound of the man 99% of trials.\n",
    "\n",
    "# set figure size\n",
    "plt.figure(figsize=(12,5))\n",
    "\n",
    "# draw the plot\n",
    "ax = sns.histplot(resample_means)\n",
    "\n",
    "# format the x asix as $\n",
    "formatter = ticker.FormatStrFormatter('$%1.0f')\n",
    "ax.xaxis.set_major_formatter(formatter)\n",
    "\n",
    "# draw a line to indicate the value\n",
    "ax.axvline(11.68, 0, .5, color='r', label='99% Confidence')\n",
    "\n",
    "# add text to the line\n",
    "ax.text(11.68, 180, '$12.45', rotation=270, va='bottom', ha='left', color='r')\n",
    "\n",
    "# set the titlle\n",
    "plt.title('Resampled mean - Original mean (delta or difference)')\n",
    "\n",
    "# add a legend\n",
    "plt.legend()"
   ]
  },
  {
   "cell_type": "markdown",
   "id": "tracked-weekend",
   "metadata": {},
   "source": [
    "# Plot convergance of confidence intervals"
   ]
  },
  {
   "cell_type": "code",
   "execution_count": 18,
   "id": "rural-recruitment",
   "metadata": {},
   "outputs": [
    {
     "data": {
      "text/plain": [
       "[8.92698412698413,\n",
       " -2.1349206349206327,\n",
       " 5.168253968253971,\n",
       " 1.7333333333333307,\n",
       " -1.349206349206348]"
      ]
     },
     "execution_count": 18,
     "metadata": {},
     "output_type": "execute_result"
    }
   ],
   "source": [
    "np.random.seed(8943)\n",
    "\n",
    "# create an empy list to hold the resampled_means \n",
    "resample_deltas = []\n",
    "\n",
    "# create x values from 10 to 40,000 by 10s\n",
    "x = np.arange(4000)\n",
    "\n",
    "# run the resample\n",
    "for i in x:\n",
    "    resample_deltas.append(resample(df_combined.amount).mean() - sample_mean)\n",
    "    \n",
    "resample_deltas[:5]"
   ]
  },
  {
   "cell_type": "code",
   "execution_count": 19,
   "id": "sensitive-march",
   "metadata": {},
   "outputs": [
    {
     "data": {
      "text/plain": [
       "[8.92698412698413,\n",
       " -1.8583730158730134,\n",
       " -1.7697619047619022,\n",
       " -1.8448015873015855,\n",
       " -2.0563492063492044]"
      ]
     },
     "execution_count": 19,
     "metadata": {},
     "output_type": "execute_result"
    }
   ],
   "source": [
    "# initialize lists for y axis values\n",
    "y1 = []\n",
    "y2 = []\n",
    "\n",
    "# get the quantiles each different numbers of samples\n",
    "for i in x:\n",
    "    y1.append(np.quantile(resample_deltas[:i+1],.025))\n",
    "    y2.append(np.quantile(resample_deltas[:i+1],.975))\n",
    "    \n",
    "# show the first 5 rows\n",
    "y1[:5]"
   ]
  },
  {
   "cell_type": "code",
   "execution_count": 20,
   "id": "afraid-bumper",
   "metadata": {},
   "outputs": [
    {
     "data": {
      "text/plain": [
       "<matplotlib.legend.Legend at 0x11707b700>"
      ]
     },
     "execution_count": 20,
     "metadata": {},
     "output_type": "execute_result"
    },
    {
     "data": {
      "image/png": "[encoded data removed]",
      "text/plain": [
       "<Figure size 864x360 with 1 Axes>"
      ]
     },
     "metadata": {
      "needs_background": "light"
     },
     "output_type": "display_data"
    }
   ],
   "source": [
    "# visualise it\n",
    "\n",
    "\n",
    "plt.figure(figsize=(12,5))\n",
    "sns.lineplot(x=x, y=y1, label='Upper CI error')\n",
    "sns.lineplot(x=x, y=y2, label='Lower CI error')\n",
    "\n",
    "formatter = ticker.FormatStrFormatter('$%1.0f')\n",
    "ax.yaxis.set_major_formatter(formatter)\n",
    "\n",
    "plt.title('0.25 and .975 quantiles of error by number of resampled means')\n",
    "plt.xlabel('number of resampled means')\n",
    "plt.ylabel('$ Dollars')\n",
    "\n",
    "plt.legend()"
   ]
  }
 ],
 "metadata": {
  "kernelspec": {
   "display_name": "Python 3",
   "language": "python",
   "name": "python3"
  },
  "language_info": {
   "codemirror_mode": {
    "name": "ipython",
    "version": 3
   },
   "file_extension": ".py",
   "mimetype": "text/x-python",
   "name": "python",
   "nbconvert_exporter": "python",
   "pygments_lexer": "ipython3",
   "version": "3.8.5"
  },
  "toc": {
   "base_numbering": 1,
   "nav_menu": {},
   "number_sections": true,
   "sideBar": true,
   "skip_h1_title": false,
   "title_cell": "Table of Contents",
   "title_sidebar": "Contents",
   "toc_cell": false,
   "toc_position": {},
   "toc_section_display": true,
   "toc_window_display": false
  }
 },
 "nbformat": 4,
 "nbformat_minor": 5
}
