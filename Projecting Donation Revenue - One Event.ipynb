{
 "cells": [
  {
   "cell_type": "markdown",
   "id": "italian-notebook",
   "metadata": {},
   "source": [
    "Bootstrap resampling to determine the confidence intervals of the population.\n",
    "\n",
    "See the blog at: https://medium.com/p/cca9dc855d1b"
   ]
  },
  {
   "cell_type": "code",
   "execution_count": 129,
   "id": "nasty-review",
   "metadata": {},
   "outputs": [],
   "source": [
    "# number stuff\n",
    "import pandas as pd\n",
    "import numpy as np\n",
    "\n",
    "# plotting stuff\n",
    "import matplotlib.pyplot as plt\n",
    "from matplotlib import ticker\n",
    "%matplotlib inline\n",
    "import seaborn as sns\n",
    "\n",
    "#from scipy import stats\n",
    "# resampling\n",
    "from sklearn.utils import resample\n"
   ]
  },
  {
   "cell_type": "code",
   "execution_count": 130,
   "id": "basic-toner",
   "metadata": {},
   "outputs": [],
   "source": [
    "# Import the data into a Pandas Dataframe\n",
    "df = pd.read_csv('data/event_2_donations.csv', index_col=0)"
   ]
  },
  {
   "cell_type": "markdown",
   "id": "excellent-bronze",
   "metadata": {},
   "source": [
    "## look at  data"
   ]
  },
  {
   "cell_type": "code",
   "execution_count": 131,
   "id": "noticed-shoulder",
   "metadata": {},
   "outputs": [
    {
     "data": {
      "text/plain": [
       "amount    2312.2\n",
       "dtype: float64"
      ]
     },
     "execution_count": 131,
     "metadata": {},
     "output_type": "execute_result"
    }
   ],
   "source": [
    "# total amount of donations\n",
    "df.sum()"
   ]
  },
  {
   "cell_type": "code",
   "execution_count": 132,
   "id": "becoming-standing",
   "metadata": {},
   "outputs": [
    {
     "data": {
      "text/html": [
       "<div>\n",
       "<style scoped>\n",
       "    .dataframe tbody tr th:only-of-type {\n",
       "        vertical-align: middle;\n",
       "    }\n",
       "\n",
       "    .dataframe tbody tr th {\n",
       "        vertical-align: top;\n",
       "    }\n",
       "\n",
       "    .dataframe thead th {\n",
       "        text-align: right;\n",
       "    }\n",
       "</style>\n",
       "<table border=\"1\" class=\"dataframe\">\n",
       "  <thead>\n",
       "    <tr style=\"text-align: right;\">\n",
       "      <th></th>\n",
       "      <th>amount</th>\n",
       "    </tr>\n",
       "  </thead>\n",
       "  <tbody>\n",
       "    <tr>\n",
       "      <th>count</th>\n",
       "      <td>64.000000</td>\n",
       "    </tr>\n",
       "    <tr>\n",
       "      <th>mean</th>\n",
       "      <td>36.128125</td>\n",
       "    </tr>\n",
       "    <tr>\n",
       "      <th>std</th>\n",
       "      <td>46.502191</td>\n",
       "    </tr>\n",
       "    <tr>\n",
       "      <th>min</th>\n",
       "      <td>10.000000</td>\n",
       "    </tr>\n",
       "    <tr>\n",
       "      <th>25%</th>\n",
       "      <td>10.000000</td>\n",
       "    </tr>\n",
       "    <tr>\n",
       "      <th>50%</th>\n",
       "      <td>20.000000</td>\n",
       "    </tr>\n",
       "    <tr>\n",
       "      <th>75%</th>\n",
       "      <td>42.500000</td>\n",
       "    </tr>\n",
       "    <tr>\n",
       "      <th>max</th>\n",
       "      <td>303.000000</td>\n",
       "    </tr>\n",
       "  </tbody>\n",
       "</table>\n",
       "</div>"
      ],
      "text/plain": [
       "           amount\n",
       "count   64.000000\n",
       "mean    36.128125\n",
       "std     46.502191\n",
       "min     10.000000\n",
       "25%     10.000000\n",
       "50%     20.000000\n",
       "75%     42.500000\n",
       "max    303.000000"
      ]
     },
     "execution_count": 132,
     "metadata": {},
     "output_type": "execute_result"
    }
   ],
   "source": [
    "# 5 point stats \n",
    "df.describe()"
   ]
  },
  {
   "cell_type": "code",
   "execution_count": 146,
   "id": "automated-threshold",
   "metadata": {},
   "outputs": [
    {
     "data": {
      "image/png": "[encoded data removed]",
      "text/plain": [
       "<Figure size 864x360 with 1 Axes>"
      ]
     },
     "metadata": {
      "needs_background": "light"
     },
     "output_type": "display_data"
    }
   ],
   "source": [
    "# plot the distribution of the donations\n",
    "\n",
    "# set the size of the figure\n",
    "plt.figure(figsize=(12,5))\n",
    "\n",
    "# plot the histogram\n",
    "ax = sns.histplot(df.amount, kde=True)\n",
    "\n",
    "# set the title\n",
    "plt.title('Donation Distribution')\n",
    "\n",
    "# format the x axis as # amounts\n",
    "formatter = ticker.FormatStrFormatter('$%1.0f')\n",
    "ax.xaxis.set_major_formatter(formatter)"
   ]
  },
  {
   "cell_type": "markdown",
   "id": "north-training",
   "metadata": {},
   "source": [
    "We can see from the 5 point stats that the minimum value for the Amount is 1. So the people who did not donate are not included.  We want to add them into this data as guests who donated zero. Our goal is to determine what the nonprofit can expect based on registrations.  If we don't include those our estimate will be too high.\n",
    "\n",
    "The first event had 109 people register\n",
    "The second event had 126 people register\n",
    "\n",
    "To add those in we want to see the difference between the number of people who registered and the number of donations for that event, and pad the list with zeros for the people who didn't donate."
   ]
  },
  {
   "cell_type": "code",
   "execution_count": 197,
   "id": "tamil-glance",
   "metadata": {},
   "outputs": [
    {
     "data": {
      "text/html": [
       "<div>\n",
       "<style scoped>\n",
       "    .dataframe tbody tr th:only-of-type {\n",
       "        vertical-align: middle;\n",
       "    }\n",
       "\n",
       "    .dataframe tbody tr th {\n",
       "        vertical-align: top;\n",
       "    }\n",
       "\n",
       "    .dataframe thead th {\n",
       "        text-align: right;\n",
       "    }\n",
       "</style>\n",
       "<table border=\"1\" class=\"dataframe\">\n",
       "  <thead>\n",
       "    <tr style=\"text-align: right;\">\n",
       "      <th></th>\n",
       "      <th>amount</th>\n",
       "    </tr>\n",
       "  </thead>\n",
       "  <tbody>\n",
       "    <tr>\n",
       "      <th>0</th>\n",
       "      <td>0.0</td>\n",
       "    </tr>\n",
       "    <tr>\n",
       "      <th>1</th>\n",
       "      <td>0.0</td>\n",
       "    </tr>\n",
       "    <tr>\n",
       "      <th>2</th>\n",
       "      <td>0.0</td>\n",
       "    </tr>\n",
       "    <tr>\n",
       "      <th>3</th>\n",
       "      <td>0.0</td>\n",
       "    </tr>\n",
       "    <tr>\n",
       "      <th>4</th>\n",
       "      <td>0.0</td>\n",
       "    </tr>\n",
       "  </tbody>\n",
       "</table>\n",
       "</div>"
      ],
      "text/plain": [
       "   amount\n",
       "0     0.0\n",
       "1     0.0\n",
       "2     0.0\n",
       "3     0.0\n",
       "4     0.0"
      ]
     },
     "execution_count": 197,
     "metadata": {},
     "output_type": "execute_result"
    }
   ],
   "source": [
    "# count the number of people who did not donate by subtracting the total number\n",
    "# of donations from the total number of registered attendees \n",
    "number_of_cheapskates = 126 - len(df)\n",
    "\n",
    "# create a dataframe of 0's with length of equal to number_of_cheapskates\n",
    "cheapskates = pd.DataFrame(np.zeros(number_of_cheapskates), \n",
    "                           columns = ['amount'])\n",
    "cheapskates.head()"
   ]
  },
  {
   "cell_type": "code",
   "execution_count": 198,
   "id": "sealed-rehabilitation",
   "metadata": {},
   "outputs": [
    {
     "data": {
      "text/plain": [
       "62"
      ]
     },
     "execution_count": 198,
     "metadata": {},
     "output_type": "execute_result"
    }
   ],
   "source": [
    "# check that we have the right number of cheapskates\n",
    "len(cheapskates)"
   ]
  },
  {
   "cell_type": "code",
   "execution_count": 221,
   "id": "intellectual-picture",
   "metadata": {},
   "outputs": [
    {
     "data": {
      "text/plain": [
       "18.35"
      ]
     },
     "execution_count": 221,
     "metadata": {},
     "output_type": "execute_result"
    }
   ],
   "source": [
    "# create a new dataframe with all registered attendees and the amount they donated.\n",
    "df_combined = pd.concat([df, cheapskates])\n",
    "\n",
    "# get the new mean\n",
    "sample_mean = df_combined['amount'].mean()\n",
    "round(sample_mean, 2)"
   ]
  },
  {
   "cell_type": "code",
   "execution_count": 200,
   "id": "printable-notification",
   "metadata": {},
   "outputs": [
    {
     "data": {
      "image/png": "[encoded data removed]",
      "text/plain": [
       "<Figure size 864x360 with 1 Axes>"
      ]
     },
     "metadata": {
      "needs_background": "light"
     },
     "output_type": "display_data"
    }
   ],
   "source": [
    "# plot the new distribution of the donations\n",
    "\n",
    "# set the size of the figure\n",
    "plt.figure(figsize=(12,5))\n",
    "\n",
    "# plot the histogram\n",
    "ax = sns.histplot(df_combined.amount, kde=True)\n",
    "\n",
    "# set the title\n",
    "plt.title('Donation Distribution')\n",
    "\n",
    "# format the x axis as # amounts\n",
    "formatter = ticker.FormatStrFormatter('$%1.0f')\n",
    "ax.xaxis.set_major_formatter(formatter)"
   ]
  },
  {
   "cell_type": "markdown",
   "id": "reasonable-virus",
   "metadata": {},
   "source": [
    "## Resample to find the population mean and confidence intervals.\n",
    "\n",
    "Why?  Because we want to know what to expect for other similar events.  By resampling we get an estimator of the sampling variation in the population.  We look at the difference between the resampled mean and our sample mean to get a distribution of the errors which we can use to estimate the confidence intervals for samples of this size from the population.\n",
    "\n",
    "For a large number of samples it will converge on an estimate of the distribution of the population.  Lets test how this converges"
   ]
  },
  {
   "cell_type": "code",
   "execution_count": 227,
   "id": "civil-conflict",
   "metadata": {},
   "outputs": [],
   "source": [
    "# create an empy list to hold the errors (differences between our ) \n",
    "error = []\n",
    "resample_means = []\n",
    "for i in range(1000):\n",
    "    resample_means.append(resample(df_combined.amount).mean())"
   ]
  },
  {
   "cell_type": "markdown",
   "id": "large-generation",
   "metadata": {},
   "source": [
    "The mean of the resample_means will be about the same as the mean of our original sample."
   ]
  },
  {
   "cell_type": "code",
   "execution_count": 228,
   "id": "searching-basics",
   "metadata": {},
   "outputs": [
    {
     "name": "stdout",
     "output_type": "stream",
     "text": [
      "Original Sample Mean: 18.35\n",
      "Mean of resampled means: 18.42\n"
     ]
    }
   ],
   "source": [
    "print(f'Original Sample Mean: {round(sample_mean, 2)}')\n",
    "print('Mean of resampled means:', round(np.mean(resample_means), 2))"
   ]
  },
  {
   "cell_type": "code",
   "execution_count": 233,
   "id": "prompt-crossing",
   "metadata": {},
   "outputs": [],
   "source": [
    "# calculate the differences between each of the resampled means\n",
    "# and our original sample mean\n",
    "\n",
    "deltas = np.array(resample_means) - sample_mean"
   ]
  },
  {
   "cell_type": "code",
   "execution_count": 237,
   "id": "necessary-thailand",
   "metadata": {},
   "outputs": [
    {
     "data": {
      "text/plain": [
       "array([-5.88,  7.55])"
      ]
     },
     "execution_count": 237,
     "metadata": {},
     "output_type": "execute_result"
    }
   ],
   "source": [
    "# We can either take the quantile range that corresponds to our desired\n",
    "# confidence interval\n",
    "np.quantile(deltas, [.025,.975]).round(2)\n"
   ]
  },
  {
   "cell_type": "code",
   "execution_count": 239,
   "id": "secret-governor",
   "metadata": {},
   "outputs": [
    {
     "data": {
      "text/plain": [
       "array([-5.88,  7.55])"
      ]
     },
     "execution_count": 239,
     "metadata": {},
     "output_type": "execute_result"
    }
   ],
   "source": [
    "# or just order the deltas and take the 25th and 975th element which will be\n",
    "# aproximatly the same.\n",
    "deltas.sort()\n",
    "np.round((deltas[24], deltas[974]),2)"
   ]
  },
  {
   "cell_type": "code",
   "execution_count": 240,
   "id": "approved-stable",
   "metadata": {},
   "outputs": [
    {
     "data": {
      "image/png": "[encoded data removed]",
      "text/plain": [
       "<Figure size 864x360 with 1 Axes>"
      ]
     },
     "metadata": {
      "needs_background": "light"
     },
     "output_type": "display_data"
    }
   ],
   "source": [
    "plt.figure(figsize=(12,5))\n",
    "sns.histplot(error)\n",
    "\n",
    "plt.title('Resampled mean - Original mean (delta or difference)')\n",
    "\n",
    "formatter = ticker.FormatStrFormatter('$%1.0f')\n",
    "ax.xaxis.set_major_formatter(formatter)\n"
   ]
  },
  {
   "cell_type": "code",
   "execution_count": null,
   "id": "dense-blackberry",
   "metadata": {},
   "outputs": [],
   "source": []
  },
  {
   "cell_type": "markdown",
   "id": "electronic-watts",
   "metadata": {},
   "source": [
    "Because we are using 1000 samples the quantile should be the same as record 250 and 975 from an ordered dataset."
   ]
  },
  {
   "cell_type": "markdown",
   "id": "guided-expert",
   "metadata": {},
   "source": [
    "# Plot convergance of confidence intervals"
   ]
  },
  {
   "cell_type": "code",
   "execution_count": 179,
   "id": "incorporate-danger",
   "metadata": {
    "scrolled": true
   },
   "outputs": [
    {
     "name": "stdout",
     "output_type": "stream",
     "text": [
      "10.0\n",
      "11.246578221198195\n",
      "12.648552168552959\n",
      "14.225293134853699\n",
      "15.998587196060582\n",
      "17.992936232915525\n",
      "20.235896477251575\n",
      "22.758459260747887\n",
      "25.59547922699536\n",
      "28.786155923545685\n",
      "32.374575428176435\n",
      "36.410319493106755\n",
      "40.94915062380425\n",
      "46.05378255822414\n",
      "51.794746792312125\n",
      "58.25136712468927\n",
      "65.51285568595509\n",
      "73.6795455966163\n",
      "82.86427728546842\n",
      "93.1939576234078\n",
      "104.81131341546852\n",
      "117.87686347935866\n",
      "132.57113655901094\n",
      "149.09716571840644\n",
      "167.68329368110082\n",
      "188.58632787726498\n",
      "212.09508879201903\n",
      "238.53440064314213\n",
      "268.2695795279727\n",
      "301.71148105292957\n",
      "339.32217718953297\n",
      "381.6213407949357\n",
      "429.1934260128778\n",
      "482.6957437677871\n",
      "542.867543932386\n",
      "610.5402296585327\n",
      "686.6488450042998\n",
      "772.2449945836254\n",
      "868.511373751353\n",
      "976.7781100894892\n",
      "1098.5411419875584\n",
      "1235.482888256747\n",
      "1389.4954943731375\n",
      "1562.7069765469948\n",
      "1757.510624854793\n",
      "1976.5980717016348\n",
      "2222.9964825261955\n",
      "2500.1103826179306\n",
      "2811.7686979742307\n",
      "3162.2776601683795\n"
     ]
    },
    {
     "data": {
      "text/plain": [
       "{10.0: array([-2.86380952,  4.51472222]),\n",
       " 11.246578221198195: array([-6.85     ,  3.2702381]),\n",
       " 12.648552168552959: array([-4.0802381 ,  8.57365079]),\n",
       " 14.225293134853699: array([-5.45257937,  4.49777778]),\n",
       " 15.998587196060582: array([-3.40277778, 10.01230159]),\n",
       " 17.992936232915525: array([-2.52222222,  5.94507937]),\n",
       " 20.235896477251575: array([-3.89325397,  6.66130952]),\n",
       " 22.758459260747887: array([-5.6165873 ,  9.09861111]),\n",
       " 25.59547922699536: array([-5.95873016,  8.52539683]),\n",
       " 28.786155923545685: array([-5.9777381 ,  6.24095238]),\n",
       " 32.374575428176435: array([-3.48103175,  4.93853175]),\n",
       " 36.410319493106755: array([-5.34047619,  7.37539683]),\n",
       " 40.94915062380425: array([-4.39924603,  6.90980159]),\n",
       " 46.05378255822414: array([-4.43055556,  5.93730159]),\n",
       " 51.794746792312125: array([-4.70992063,  6.94404762]),\n",
       " 58.25136712468927: array([-5.60781746,  6.05813492]),\n",
       " 65.51285568595509: array([-5.46761905,  6.02507937]),\n",
       " 73.6795455966163: array([-6.08730159,  7.35904762]),\n",
       " 82.86427728546842: array([-7.4265873 ,  6.21960317]),\n",
       " 93.1939576234078: array([-5.16904762,  7.42301587]),\n",
       " 104.81131341546852: array([-5.55051587,  5.98587302]),\n",
       " 117.87686347935866: array([-4.94603175,  5.3347619 ]),\n",
       " 132.57113655901094: array([-5.58337302,  8.00380952]),\n",
       " 149.09716571840644: array([-6.39047619,  7.64698413]),\n",
       " 167.68329368110082: array([-6.00420635,  6.95777778]),\n",
       " 188.58632787726498: array([-5.27365079,  6.52222222]),\n",
       " 212.09508879201903: array([-5.19126984,  7.32968254]),\n",
       " 238.53440064314213: array([-6.35305556,  7.87630952]),\n",
       " 268.2695795279727: array([-6.17087302,  7.76730159]),\n",
       " 301.71148105292957: array([-5.63888889,  7.12301587]),\n",
       " 339.32217718953297: array([-5.845     ,  7.04119048]),\n",
       " 381.6213407949357: array([-5.71190476,  7.6952381 ]),\n",
       " 429.1934260128778: array([-6.11      ,  7.16238095]),\n",
       " 482.6957437677871: array([-5.5       ,  7.83369048]),\n",
       " 542.867543932386: array([-5.9265873 ,  7.83063492]),\n",
       " 610.5402296585327: array([-5.27543651,  6.8       ]),\n",
       " 686.6488450042998: array([-6.08611111,  6.85456349]),\n",
       " 772.2449945836254: array([-5.54674603,  6.7152381 ]),\n",
       " 868.511373751353: array([-5.51619048,  7.33400794]),\n",
       " 976.7781100894892: array([-5.72460317,  6.71825397]),\n",
       " 1098.5411419875584: array([-5.4227381 ,  6.94992063]),\n",
       " 1235.482888256747: array([-5.51079365,  7.1968254 ]),\n",
       " 1389.4954943731375: array([-5.92666667,  7.11349206]),\n",
       " 1562.7069765469948: array([-6.10142857,  7.19472222]),\n",
       " 1757.510624854793: array([-5.97714286,  6.95015873]),\n",
       " 1976.5980717016348: array([-5.69603175,  7.02242063]),\n",
       " 2222.9964825261955: array([-5.75607143,  6.85896825]),\n",
       " 2500.1103826179306: array([-5.95162698,  7.33111111]),\n",
       " 2811.7686979742307: array([-5.87936508,  7.09642857]),\n",
       " 3162.2776601683795: array([-5.76329365,  7.17265873])}"
      ]
     },
     "execution_count": 179,
     "metadata": {},
     "output_type": "execute_result"
    }
   ],
   "source": [
    "# Resample event_2_donations\n",
    "x_bar_star = {}\n",
    "x_bar = df_combined['amount'].mean()\n",
    "\n",
    "errors = {}\n",
    "\n",
    "# try with different resample sizes\n",
    "for n in np.logspace(1, 3.5, num=50):\n",
    "#for n in np.linspace(1, 1000):\n",
    "#for n in range(1, 1000):\n",
    "\n",
    "    print(n)\n",
    "    # do the resampling\n",
    "    for i in range(int(n)):\n",
    "        mean = resample(df_combined.amount).mean()\n",
    "        x_bar_star[n] = x_bar_star.get(n, [])\n",
    "        x_bar_star[n].append(mean)\n",
    "        \n",
    "    error = np.array(x_bar_star[n]) - x_bar\n",
    "    errors[n] = np.quantile(error, [.025,.975])\n",
    "               \n",
    "errors"
   ]
  },
  {
   "cell_type": "code",
   "execution_count": 94,
   "id": "elder-poker",
   "metadata": {},
   "outputs": [
    {
     "data": {
      "text/plain": [
       "{10.0: array([-1.93373016,  7.48769841]),\n",
       " 11.246578221198195: array([-4.91269841,  4.12698413]),\n",
       " 12.648552168552959: array([-2.3702381 ,  5.49742063]),\n",
       " 14.225293134853699: array([-4.25496032,  7.70496032]),\n",
       " 15.998587196060582: array([-5.3452381 ,  3.40833333]),\n",
       " 17.992936232915525: array([-3.7015873 ,  4.93492063]),\n",
       " 20.235896477251575: array([-4.93234127,  5.25496032]),\n",
       " 22.758459260747887: array([-4.08869048,  5.33630952]),\n",
       " 25.59547922699536: array([-5.22857143,  8.44444444]),\n",
       " 28.786155923545685: array([-4.4359127 ,  5.68055556]),\n",
       " 32.374575428176435: array([-4.47559524,  5.31289683]),\n",
       " 36.410319493106755: array([-5.63492063,  5.88690476]),\n",
       " 40.94915062380425: array([-4.43928571,  5.26527778]),\n",
       " 46.05378255822414: array([-4.81845238,  6.42460317]),\n",
       " 51.794746792312125: array([-5.07142857,  4.87301587]),\n",
       " 58.25136712468927: array([-5.51428571,  4.7015873 ]),\n",
       " 65.51285568595509: array([-6.0047619 ,  5.77142857]),\n",
       " 73.6795455966163: array([-5.50952381,  5.50952381]),\n",
       " 82.86427728546842: array([-5.03670635,  6.13253968]),\n",
       " 93.1939576234078: array([-5.03095238,  5.27301587]),\n",
       " 104.81131341546852: array([-5.44365079,  5.01746032]),\n",
       " 117.87686347935866: array([-5.00952381,  5.75555556]),\n",
       " 132.57113655901094: array([-5.41825397,  5.52698413]),\n",
       " 149.09716571840644: array([-4.98571429,  7.64126984]),\n",
       " 167.68329368110082: array([-5.31230159,  5.9515873 ]),\n",
       " 188.58632787726498: array([-5.21468254,  6.6531746 ]),\n",
       " 212.09508879201903: array([-5.53412698,  6.41230159]),\n",
       " 238.53440064314213: array([-5.84107143,  5.63134921]),\n",
       " 268.2695795279727: array([-5.44702381,  5.74047619]),\n",
       " 301.71148105292957: array([-5.02380952,  6.        ]),\n",
       " 339.32217718953297: array([-5.425     ,  7.05039683]),\n",
       " 381.6213407949357: array([-5.5515873 ,  6.47222222]),\n",
       " 429.1934260128778: array([-5.39920635,  6.74285714]),\n",
       " 482.6957437677871: array([-5.33214286,  6.27738095]),\n",
       " 542.867543932386: array([-4.94285714,  6.2875    ]),\n",
       " 610.5402296585327: array([-5.37956349,  7.44781746]),\n",
       " 686.6488450042998: array([-5.59821429,  6.01190476]),\n",
       " 772.2449945836254: array([-5.0265873 ,  6.00357143]),\n",
       " 868.511373751353: array([-5.3359127,  6.0047619]),\n",
       " 976.7781100894892: array([-5.17162698,  7.14285714]),\n",
       " 1098.5411419875584: array([-5.35714286,  6.5       ]),\n",
       " 1235.482888256747: array([-5.43095238,  6.53293651]),\n",
       " 1389.4954943731375: array([-5.45238095,  6.7515873 ]),\n",
       " 1562.7069765469948: array([-5.28531746,  6.35634921]),\n",
       " 1757.510624854793: array([-5.44603175,  5.7468254 ]),\n",
       " 1976.5980717016348: array([-5.1875    ,  6.74305556]),\n",
       " 2222.9964825261955: array([-5.28452381,  6.43650794]),\n",
       " 2500.1103826179306: array([-5.4890873 ,  6.59940476]),\n",
       " 2811.7686979742307: array([-5.32539683,  6.31547619]),\n",
       " 3162.2776601683795: array([-5.4202381 ,  6.56309524])}"
      ]
     },
     "execution_count": 94,
     "metadata": {},
     "output_type": "execute_result"
    }
   ],
   "source": [
    "errors"
   ]
  },
  {
   "cell_type": "code",
   "execution_count": 96,
   "id": "posted-reporter",
   "metadata": {},
   "outputs": [
    {
     "data": {
      "text/html": [
       "<div>\n",
       "<style scoped>\n",
       "    .dataframe tbody tr th:only-of-type {\n",
       "        vertical-align: middle;\n",
       "    }\n",
       "\n",
       "    .dataframe tbody tr th {\n",
       "        vertical-align: top;\n",
       "    }\n",
       "\n",
       "    .dataframe thead th {\n",
       "        text-align: right;\n",
       "    }\n",
       "</style>\n",
       "<table border=\"1\" class=\"dataframe\">\n",
       "  <thead>\n",
       "    <tr style=\"text-align: right;\">\n",
       "      <th></th>\n",
       "      <th>0</th>\n",
       "      <th>1</th>\n",
       "    </tr>\n",
       "  </thead>\n",
       "  <tbody>\n",
       "    <tr>\n",
       "      <th>10.000000</th>\n",
       "      <td>-1.933730</td>\n",
       "      <td>7.487698</td>\n",
       "    </tr>\n",
       "    <tr>\n",
       "      <th>11.246578</th>\n",
       "      <td>-4.912698</td>\n",
       "      <td>4.126984</td>\n",
       "    </tr>\n",
       "    <tr>\n",
       "      <th>12.648552</th>\n",
       "      <td>-2.370238</td>\n",
       "      <td>5.497421</td>\n",
       "    </tr>\n",
       "    <tr>\n",
       "      <th>14.225293</th>\n",
       "      <td>-4.254960</td>\n",
       "      <td>7.704960</td>\n",
       "    </tr>\n",
       "    <tr>\n",
       "      <th>15.998587</th>\n",
       "      <td>-5.345238</td>\n",
       "      <td>3.408333</td>\n",
       "    </tr>\n",
       "  </tbody>\n",
       "</table>\n",
       "</div>"
      ],
      "text/plain": [
       "                  0         1\n",
       "10.000000 -1.933730  7.487698\n",
       "11.246578 -4.912698  4.126984\n",
       "12.648552 -2.370238  5.497421\n",
       "14.225293 -4.254960  7.704960\n",
       "15.998587 -5.345238  3.408333"
      ]
     },
     "execution_count": 96,
     "metadata": {},
     "output_type": "execute_result"
    }
   ],
   "source": [
    "df_errors = pd.DataFrame.from_dict(errors).T\n",
    "df_errors.head()"
   ]
  },
  {
   "cell_type": "code",
   "execution_count": 98,
   "id": "limited-hampton",
   "metadata": {},
   "outputs": [
    {
     "data": {
      "text/plain": [
       "[<matplotlib.lines.Line2D at 0x126352c40>]"
      ]
     },
     "execution_count": 98,
     "metadata": {},
     "output_type": "execute_result"
    },
    {
     "data": {
      "image/png": "[encoded data removed]",
      "text/plain": [
       "<Figure size 432x288 with 1 Axes>"
      ]
     },
     "metadata": {
      "needs_background": "light"
     },
     "output_type": "display_data"
    }
   ],
   "source": [
    "plt.plot(df_errors.index, df_errors[0])\n",
    "plt.plot(df_errors.index, df_errors[1])\n"
   ]
  },
  {
   "cell_type": "code",
   "execution_count": 188,
   "id": "baking-princeton",
   "metadata": {},
   "outputs": [
    {
     "data": {
      "text/plain": [
       "<matplotlib.legend.Legend at 0x12732dfa0>"
      ]
     },
     "execution_count": 188,
     "metadata": {},
     "output_type": "execute_result"
    },
    {
     "data": {
      "image/png": "[encoded data removed]",
      "text/plain": [
       "<Figure size 864x360 with 1 Axes>"
      ]
     },
     "metadata": {
      "needs_background": "light"
     },
     "output_type": "display_data"
    }
   ],
   "source": [
    "\n",
    "\n",
    "\n",
    "plt.figure(figsize=(12,5))\n",
    "\n",
    "plt.plot(df_errors.index, df_errors[0], label='Upper Bound')\n",
    "plt.plot(df_errors.index, df_errors[1], label='Lower Bound')\n",
    "\n",
    "plt.title('Error by Number of Samples')\n",
    "plt.ylabel('Error in USD')\n",
    "plt.xlabel('Number of resamples (synthetic events)')\n",
    "\n",
    "formatter = ticker.FormatStrFormatter('$%1.0f')\n",
    "\n",
    "ax = plt.gca()\n",
    "ax.yaxis.set_major_formatter(formatter)\n",
    "\n",
    "plt.legend()\n"
   ]
  },
  {
   "cell_type": "code",
   "execution_count": 164,
   "id": "current-milwaukee",
   "metadata": {},
   "outputs": [
    {
     "data": {
      "text/plain": [
       "1000"
      ]
     },
     "execution_count": 164,
     "metadata": {},
     "output_type": "execute_result"
    }
   ],
   "source": [
    "len(error)"
   ]
  },
  {
   "cell_type": "code",
   "execution_count": 162,
   "id": "nervous-heavy",
   "metadata": {},
   "outputs": [],
   "source": [
    "x_bar = df_combined['amount'].mean()"
   ]
  },
  {
   "cell_type": "code",
   "execution_count": 167,
   "id": "cooked-thumb",
   "metadata": {},
   "outputs": [
    {
     "data": {
      "text/plain": [
       "10.566666666666663"
      ]
     },
     "execution_count": 167,
     "metadata": {},
     "output_type": "execute_result"
    }
   ],
   "source": [
    "x_bar + error[10]"
   ]
  },
  {
   "cell_type": "code",
   "execution_count": 176,
   "id": "rising-outline",
   "metadata": {},
   "outputs": [
    {
     "data": {
      "text/plain": [
       "10.57"
      ]
     },
     "execution_count": 176,
     "metadata": {},
     "output_type": "execute_result"
    }
   ],
   "source": [
    "round(x_bar + error[10], 2)"
   ]
  },
  {
   "cell_type": "markdown",
   "id": "according-respect",
   "metadata": {},
   "source": [
    "References:\n",
    "https://towardsdatascience.com/a-complete-guide-to-confidence-interval-and-examples-in-python-ff417c5cb593\n",
    "\n",
    "https://moderndive.com/8-confidence-intervals.html\n",
    "\n"
   ]
  }
 ],
 "metadata": {
  "kernelspec": {
   "display_name": "Python 3",
   "language": "python",
   "name": "python3"
  },
  "language_info": {
   "codemirror_mode": {
    "name": "ipython",
    "version": 3
   },
   "file_extension": ".py",
   "mimetype": "text/x-python",
   "name": "python",
   "nbconvert_exporter": "python",
   "pygments_lexer": "ipython3",
   "version": "3.8.5"
  },
  "toc": {
   "base_numbering": 1,
   "nav_menu": {},
   "number_sections": true,
   "sideBar": true,
   "skip_h1_title": false,
   "title_cell": "Table of Contents",
   "title_sidebar": "Contents",
   "toc_cell": false,
   "toc_position": {},
   "toc_section_display": true,
   "toc_window_display": false
  }
 },
 "nbformat": 4,
 "nbformat_minor": 5
}
